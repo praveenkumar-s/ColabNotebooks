{
  "nbformat": 4,
  "nbformat_minor": 0,
  "metadata": {
    "colab": {
      "name": "Praveen's Snippets.ipynb",
      "provenance": [],
      "collapsed_sections": [],
      "authorship_tag": "ABX9TyOloyu2fZCk5jE2F0tskHL/",
      "include_colab_link": true
    },
    "kernelspec": {
      "name": "python3",
      "display_name": "Python 3"
    },
    "language_info": {
      "name": "python"
    }
  },
  "cells": [
    {
      "cell_type": "markdown",
      "metadata": {
        "id": "view-in-github",
        "colab_type": "text"
      },
      "source": [
        "<a href=\"https://colab.research.google.com/github/praveenkumar-s/ColabNotebooks/blob/main/Praveen's_Snippets.ipynb\" target=\"_parent\"><img src=\"https://colab.research.google.com/assets/colab-badge.svg\" alt=\"Open In Colab\"/></a>"
      ]
    },
    {
      "cell_type": "markdown",
      "metadata": {
        "id": "i8SoNTa2fznq"
      },
      "source": [
        "**Python Logger**"
      ]
    },
    {
      "cell_type": "code",
      "metadata": {
        "id": "OnMojY4pfsPj"
      },
      "source": [
        "import logging\n",
        "logging.basicConfig(filename='myfirstlog.log', \n",
        "level=logging.DEBUG, \n",
        "format='%(asctime)s | %(name)s | %(levelname)s | %(message)s')\n"
      ],
      "execution_count": null,
      "outputs": []
    },
    {
      "cell_type": "markdown",
      "metadata": {
        "id": "RwReqIulgAJj"
      },
      "source": [
        "**Subprocess - Start and Wait **"
      ]
    },
    {
      "cell_type": "code",
      "metadata": {
        "id": "c7Zh7bIDgIMb"
      },
      "source": [
        "import subprocess\n",
        "\n",
        "subprocess.call([\"ls\", \"-lha\"])\n",
        "\n",
        "subprocess.call(\"ls -lha\", shell=True) # show the Shell Window\n"
      ],
      "execution_count": null,
      "outputs": []
    },
    {
      "cell_type": "markdown",
      "metadata": {
        "id": "26O0MjGQgwlT"
      },
      "source": [
        "**Subprocess start and write output to file **"
      ]
    },
    {
      "cell_type": "code",
      "metadata": {
        "id": "P8_5HRgGg0xo"
      },
      "source": [
        "import subprocess\n",
        "import sys\n",
        "\n",
        "# create two files to hold the output and errors, respectively\n",
        "with open('out.txt','w+') as fout:\n",
        "    with open('err.txt','w+') as ferr:\n",
        "        out=subprocess.call([\"ls\",'-lha'],stdout=fout,stderr=ferr)\n",
        "        # reset file to read from it\n",
        "        fout.seek(0)\n",
        "        # save output (if any) in variable\n",
        "        output=fout.read())\n",
        "\n",
        "        # reset file to read from it\n",
        "        ferr.seek(0) \n",
        "        # save errors (if any) in variable\n",
        "        errors = ferr.read()\n",
        "\n",
        "output\n",
        "# total 20K\n",
        "# drwxrwxr-x  3 felipe felipe 4,0K Nov  4 15:28 .\n",
        "# drwxrwxr-x 39 felipe felipe 4,0K Nov  3 18:31 ..\n",
        "# drwxrwxr-x  2 felipe felipe 4,0K Nov  3 19:32 .ipynb_checkpoints\n",
        "# -rw-rw-r--  1 felipe felipe 5,5K Nov  4 15:28 main.ipynb\n",
        "\n",
        "errors\n",
        "# '' empty string"
      ],
      "execution_count": null,
      "outputs": []
    },
    {
      "cell_type": "markdown",
      "metadata": {
        "id": "SKuyIp-Ohvnl"
      },
      "source": [
        "**Json to Native Object**"
      ]
    },
    {
      "cell_type": "code",
      "metadata": {
        "colab": {
          "base_uri": "https://localhost:8080/"
        },
        "id": "XVReMn3WhyYk",
        "outputId": "4a0aa54c-f148-4087-fe39-351c836d2b31"
      },
      "source": [
        "import json\n",
        "from collections import namedtuple\n",
        "from json import JSONEncoder\n",
        "\n",
        "def customJsonDecoder(dictVar):\n",
        "    return namedtuple('X', dictVar.keys())(*dictVar.values())\n",
        "\n",
        "#Assume you received this JSON response\n",
        "studentJsonData = '{\"rollNumber\": 1, \"name\": \"Emma\"}'\n",
        "\n",
        "# Parse JSON into an object with attributes corresponding to dict keys.\n",
        "student = json.loads(studentJsonData, object_hook=customJsonDecoder)\n",
        "\n",
        "print(\"After Converting JSON Data into Custom Python Object\")\n",
        "print(student.rollNumber, student.name)"
      ],
      "execution_count": 1,
      "outputs": [
        {
          "output_type": "stream",
          "text": [
            "After Converting JSON Data into Custom Python Object\n",
            "1 Emma\n"
          ],
          "name": "stdout"
        }
      ]
    }
  ]
}